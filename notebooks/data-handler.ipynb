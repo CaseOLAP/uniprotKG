{
 "cells": [
  {
   "attachments": {},
   "cell_type": "markdown",
   "metadata": {},
   "source": [
    "# Read .gz file in python"
   ]
  },
  {
   "cell_type": "code",
   "execution_count": 1,
   "metadata": {},
   "outputs": [],
   "source": [
    "import os\n",
    "import gzip\n",
    "import xml.etree.ElementTree as ET"
   ]
  },
  {
   "cell_type": "code",
   "execution_count": 2,
   "metadata": {},
   "outputs": [
    {
     "name": "stdout",
     "output_type": "stream",
     "text": [
      "{http://uniprot.org/uniprot}entry {'dataset': 'Swiss-Prot', 'created': '1987-08-13', 'modified': '2023-06-28', 'version': '240'}\n",
      "{http://uniprot.org/uniprot}entry {'dataset': 'Swiss-Prot', 'created': '1989-10-01', 'modified': '2023-06-28', 'version': '241'}\n",
      "{http://uniprot.org/uniprot}entry {'dataset': 'Swiss-Prot', 'created': '1989-10-01', 'modified': '2023-06-28', 'version': '241'}\n",
      "{http://uniprot.org/uniprot}entry {'dataset': 'Swiss-Prot', 'created': '1996-02-01', 'modified': '2023-06-28', 'version': '193'}\n",
      "{http://uniprot.org/uniprot}entry {'dataset': 'Swiss-Prot', 'created': '1996-10-01', 'modified': '2023-06-28', 'version': '197'}\n",
      "{http://uniprot.org/uniprot}entry {'dataset': 'Swiss-Prot', 'created': '2007-08-21', 'modified': '2023-06-28', 'version': '120'}\n",
      "{http://uniprot.org/uniprot}entry {'dataset': 'Swiss-Prot', 'created': '2007-08-21', 'modified': '2023-06-28', 'version': '171'}\n",
      "{http://uniprot.org/uniprot}copyright {}\n"
     ]
    }
   ],
   "source": [
    "with gzip.open('test.xml.gz', 'rt') as f:\n",
    "    xml_content = f.read()\n",
    "\n",
    "root = ET.fromstring(xml_content)\n",
    "\n",
    "# now you can navigate the XML tree using the root element\n",
    "for child in root:\n",
    "    print(child.tag, child.attrib)"
   ]
  },
  {
   "cell_type": "code",
   "execution_count": 31,
   "metadata": {},
   "outputs": [
    {
     "name": "stdout",
     "output_type": "stream",
     "text": [
      "ADP/ATP translocase 2\n"
     ]
    }
   ],
   "source": [
    "import xml.etree.ElementTree as ET\n",
    "\n",
    "tree = ET.parse('P05141.xml')\n",
    "root = tree.getroot()\n",
    "\n",
    "# The UniProt XML format uses namespaces, so we need to define the namespace\n",
    "ns = {'uniprot': 'http://uniprot.org/uniprot'}\n",
    "\n",
    "# Now we can find elements using this namespace\n",
    "for entry in root.findall('uniprot:entry', ns):\n",
    "    protein = entry.find('uniprot:protein', ns)\n",
    "    recommended_name = protein.find('uniprot:recommendedName', ns)\n",
    "    full_name = recommended_name.find('uniprot:fullName', ns)\n",
    "    \n",
    "    print(full_name.text)\n",
    "\n",
    "   \n",
    "\n"
   ]
  },
  {
   "cell_type": "code",
   "execution_count": 32,
   "metadata": {},
   "outputs": [
    {
     "name": "stdout",
     "output_type": "stream",
     "text": [
      "\n",
      "      \n"
     ]
    }
   ],
   "source": [
    "print(recommended_name.text)"
   ]
  },
  {
   "attachments": {},
   "cell_type": "markdown",
   "metadata": {},
   "source": [
    "#### Read .xml file in python"
   ]
  },
  {
   "cell_type": "code",
   "execution_count": 33,
   "metadata": {},
   "outputs": [
    {
     "name": "stdout",
     "output_type": "stream",
     "text": [
      "Accession: P05141, Position: 1, Description: N-acetylmethionine\tEvidence: {evidence}\n",
      "Accession: P05141, Position: 2, Description: N-acetylthreonine; in ADP/ATP translocase 2, N-terminally processed\tEvidence: {evidence}\n",
      "Accession: P05141, Position: 7, Description: Phosphoserine\tEvidence: {evidence}\n",
      "Accession: P05141, Position: 23, Description: N6-malonyllysine\tEvidence: {evidence}\n",
      "Accession: P05141, Position: 43, Description: N6-succinyllysine\tEvidence: {evidence}\n",
      "Accession: P05141, Position: 52, Description: N6,N6,N6-trimethyllysine; alternate\tEvidence: {evidence}\n",
      "Accession: P05141, Position: 52, Description: N6,N6-dimethyllysine; alternate\tEvidence: {evidence}\n",
      "Accession: P05141, Position: 52, Description: N6-methyllysine; alternate\tEvidence: {evidence}\n",
      "Accession: P05141, Position: 92, Description: N6-malonyllysine\tEvidence: {evidence}\n",
      "Accession: P05141, Position: 96, Description: N6-malonyllysine\tEvidence: {evidence}\n",
      "Accession: P05141, Position: 105, Description: N6-acetyllysine; alternate\tEvidence: {evidence}\n",
      "Accession: P05141, Position: 105, Description: N6-succinyllysine; alternate\tEvidence: {evidence}\n",
      "Accession: P05141, Position: 147, Description: N6-acetyllysine; alternate\tEvidence: {evidence}\n",
      "Accession: P05141, Position: 147, Description: N6-malonyllysine; alternate\tEvidence: {evidence}\n",
      "Accession: P05141, Position: 147, Description: N6-methyllysine; alternate\tEvidence: {evidence}\n",
      "Accession: P05141, Position: 147, Description: N6-succinyllysine; alternate\tEvidence: {evidence}\n",
      "Accession: P05141, Position: 163, Description: N6-acetyllysine\tEvidence: {evidence}\n",
      "Accession: P05141, Position: 166, Description: N6-acetyllysine\tEvidence: {evidence}\n",
      "Accession: P05141, Position: 268, Description: N6-acetyllysine; alternate\tEvidence: {evidence}\n",
      "Accession: P05141, Position: 268, Description: N6-succinyllysine; alternate\tEvidence: {evidence}\n"
     ]
    }
   ],
   "source": [
    "import xml.etree.ElementTree as ET\n",
    "\n",
    "tree = ET.parse('P05141.xml')\n",
    "root = tree.getroot()\n",
    "\n",
    "# Define the namespace\n",
    "ns = {'uniprot': 'http://uniprot.org/uniprot'}\n",
    "\n",
    "# Find all entries\n",
    "for entry in root.findall('uniprot:entry', ns):\n",
    "    # Get the entry's accession number\n",
    "    accession = entry.find('uniprot:accession', ns).text\n",
    "    # Find all 'feature' elements with type=\"modified residue\"\n",
    "    for feature in entry.findall('uniprot:feature[@type=\"modified residue\"]', ns):\n",
    "        # Get the position and description of the modification\n",
    "        position = feature.find('uniprot:location/uniprot:position', ns).get('position')\n",
    "        description = feature.get('description')\n",
    "        evidence = feature.get('evidence')\n",
    "        print(f'Accession: {accession}, Position: {position}, Description: {description}', 'Evidence: {evidence}', sep='\\t')\n"
   ]
  },
  {
   "cell_type": "code",
   "execution_count": null,
   "metadata": {},
   "outputs": [],
   "source": []
  },
  {
   "cell_type": "code",
   "execution_count": null,
   "metadata": {},
   "outputs": [],
   "source": []
  },
  {
   "cell_type": "code",
   "execution_count": null,
   "metadata": {},
   "outputs": [],
   "source": []
  },
  {
   "cell_type": "code",
   "execution_count": null,
   "metadata": {},
   "outputs": [],
   "source": []
  },
  {
   "cell_type": "code",
   "execution_count": null,
   "metadata": {},
   "outputs": [],
   "source": []
  }
 ],
 "metadata": {
  "kernelspec": {
   "display_name": "Python 3 (ipykernel)",
   "language": "python",
   "name": "python3"
  },
  "language_info": {
   "codemirror_mode": {
    "name": "ipython",
    "version": 3
   },
   "file_extension": ".py",
   "mimetype": "text/x-python",
   "name": "python",
   "nbconvert_exporter": "python",
   "pygments_lexer": "ipython3",
   "version": "3.9.13"
  }
 },
 "nbformat": 4,
 "nbformat_minor": 2
}
