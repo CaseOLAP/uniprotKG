{
 "cells": [
  {
   "attachments": {},
   "cell_type": "markdown",
   "metadata": {},
   "source": [
    "# importing data in xml format"
   ]
  },
  {
   "cell_type": "code",
   "execution_count": null,
   "metadata": {},
   "outputs": [],
   "source": [
    "import gzip\n",
    "import pandas as pd\n",
    "import xml.etree.ElementTree as ET\n",
    "\n",
    "from parser.single_xml_parser import UniprotEntryParser\n",
    "\n",
    "input = gzip.open('whole uniprot.xml.gz', 'r')\n",
    " #tree = ET.parse('P05141.xml')\n",
    "tree = ET.parse(input)\n",
    "root = tree.getroot()\n",
    "\n",
    "print (root.tag)\n",
    "#print (root.attrib)"
   ]
  },
  {
   "cell_type": "code",
   "execution_count": null,
   "metadata": {},
   "outputs": [],
   "source": [
    "#for i, entry in enumerate(root.findall('{http://uniprot.org/uniprot}entry')):\n",
    "#    UEP = UniprotEntryParser(entry)\n",
    "#    #print (i, UEP.get_references())"
   ]
  },
  {
   "cell_type": "code",
   "execution_count": null,
   "metadata": {},
   "outputs": [],
   "source": [
    "def get_entry_dict(entry):\n",
    "    # Get the entry dictionary\n",
    "    UEP = UniprotEntryParser(entry)\n",
    "    \n",
    "\n",
    "    entry_dict = {'accession': UEP.get_accession(),\\\n",
    "                   'name': UEP.get_name(),\\\n",
    "                    'gene': UEP.get_gene(),\\\n",
    "                    'organism': UEP.get_organism(),\\\n",
    "                    'sequence': UEP.get_sequence(),\\\n",
    "                    'uniprotId': UEP.get_uniprotId(),\\\n",
    "                    'ptm': UEP.get_ptm(),\\\n",
    "                    'references': UEP.get_references()}\n",
    "    \n",
    "    return entry_dict"
   ]
  },
  {
   "cell_type": "code",
   "execution_count": null,
   "metadata": {},
   "outputs": [],
   "source": [
    "entries = [entry for entry in root.findall('{http://uniprot.org/uniprot}entry')]\n",
    "entry_dicts = [get_entry_dict(entry) for entry in entries]"
   ]
  },
  {
   "cell_type": "code",
   "execution_count": null,
   "metadata": {},
   "outputs": [],
   "source": [
    "#entry_dicts[0]"
   ]
  },
  {
   "cell_type": "code",
   "execution_count": null,
   "metadata": {},
   "outputs": [],
   "source": [
    "#for item in entry_dicts:\n",
    "#    print(item['references'])"
   ]
  },
  {
   "attachments": {},
   "cell_type": "markdown",
   "metadata": {},
   "source": [
    "### Create Mapper"
   ]
  },
  {
   "cell_type": "code",
   "execution_count": null,
   "metadata": {},
   "outputs": [],
   "source": [
    "key2pmid = {}\n",
    "for entry in entry_dicts:\n",
    "    for reference in entry['references']:\n",
    "        if reference['citation_type'] == 'journal article':\n",
    "            #key2pmid[reference['key']] = reference['pubmedId']\n",
    "            key2pmid[reference['key']] = reference\n",
    "\n",
    "        elif reference['citation_type'] == 'submission':\n",
    "            #key2pmid[reference['key']] = reference['db']\n",
    "            key2pmid[reference['key']] = reference"
   ]
  },
  {
   "cell_type": "code",
   "execution_count": null,
   "metadata": {},
   "outputs": [],
   "source": [
    "key2pmid"
   ]
  },
  {
   "cell_type": "code",
   "execution_count": null,
   "metadata": {},
   "outputs": [],
   "source": [
    "def splitAndMap(longstring):\n",
    "    mapped = []\n",
    "    nlist = longstring.split(' ')\n",
    "    for item in nlist:\n",
    "        mapped.append(key2pmid[item])\n",
    "    return mapped\n",
    "    "
   ]
  },
  {
   "cell_type": "code",
   "execution_count": null,
   "metadata": {},
   "outputs": [],
   "source": [
    "DATA = []\n",
    "for entry in entry_dicts:\n",
    "    idata = {}\n",
    "    idata[\"accession\"] = entry['accession']\n",
    "    idata[\"entry\"] = entry['name']\n",
    "    idata[\"gene\"] = entry['gene']\n",
    "    idata[\"organism\"] = entry['organism']\n",
    "    idata[\"sequence\"] = entry['sequence']\n",
    "    idata[\"uniprotId\"] = entry['uniprotId']\n",
    "    for item in entry['ptm']:\n",
    "        data = idata.copy()\n",
    "        data[\"Position\"] = item['Position']\n",
    "        data[\"Description\"] = item['Description']\n",
    "        try:\n",
    "            data[\"Evidence\"] = splitAndMap(item['Evidence'])\n",
    "        except:\n",
    "            data[\"Evidence\"] = None\n",
    "        DATA.append(data)"
   ]
  },
  {
   "cell_type": "code",
   "execution_count": null,
   "metadata": {},
   "outputs": [],
   "source": [
    "DATA[0]"
   ]
  },
  {
   "cell_type": "code",
   "execution_count": null,
   "metadata": {},
   "outputs": [],
   "source": [
    "df = pd.DataFrame(DATA)\n",
    "df.head()"
   ]
  },
  {
   "cell_type": "code",
   "execution_count": null,
   "metadata": {},
   "outputs": [],
   "source": [
    "#df.columns\n",
    "df.to_csv('alldata.csv', index=False)"
   ]
  },
  {
   "cell_type": "code",
   "execution_count": null,
   "metadata": {},
   "outputs": [],
   "source": [
    "sdf = df[['uniprotId', 'entry', 'gene', 'organism', 'Position', 'Description','Evidence', 'sequence']]"
   ]
  },
  {
   "cell_type": "code",
   "execution_count": null,
   "metadata": {},
   "outputs": [],
   "source": [
    "sdf.to_csv('Selected_data.csv', index=False)"
   ]
  },
  {
   "attachments": {},
   "cell_type": "markdown",
   "metadata": {},
   "source": [
    "### ROUGH Code"
   ]
  },
  {
   "cell_type": "markdown",
   "metadata": {},
   "source": []
  },
  {
   "cell_type": "code",
   "execution_count": null,
   "metadata": {},
   "outputs": [],
   "source": [
    "df['ptm-position'] = df['ptm'].apply(lambda x: [item['Position'] for item in x] if x is not None else None)\n",
    "df['ptm-description'] = df['ptm'].apply(lambda x: [item['Description'] for item in x] if x is not None else None)"
   ]
  },
  {
   "cell_type": "code",
   "execution_count": null,
   "metadata": {},
   "outputs": [],
   "source": [
    "from bs4 import BeautifulSoup\n",
    "\n",
    "# Open the XML file\n",
    "with open('P12235.xml', 'r') as f:\n",
    "    data = f.read()\n",
    "\n",
    "# Parse the XML file\n",
    "soup = BeautifulSoup(data, 'xml')\n",
    "\n",
    "# Find all modified residues\n",
    "modified_residues = soup.find_all('feature', {'type': 'modified residue'})\n",
    "\n",
    "# Get a dictionary of all evidences with their associated references\n",
    "evidences = {evidence.get('key'): evidence for evidence in soup.find_all('evidence')}\n",
    "\n",
    "# Initialize an empty list to store the data\n",
    "data = []\n",
    "\n",
    "# Iterate over all modified residues\n",
    "for residue in modified_residues:\n",
    "    position = residue.location.begin.get('position')\n",
    "    description = residue.get('description')\n",
    "\n",
    "    # Get the evidence IDs for this residue\n",
    "    evidence_ids = residue.get('evidence').split()\n",
    "\n",
    "    # Get the corresponding references for each evidence\n",
    "    references = []\n",
    "    for evidence_id in evidence_ids:\n",
    "        evidence = evidences.get(evidence_id)\n",
    "        if evidence:\n",
    "            reference_key = evidence.get('key')\n",
    "            references.append(reference_key)\n",
    "    \n",
    "    data.append({\n",
    "        'Position': position, \n",
    "        'Description': description, \n",
    "        'Evidence': references\n",
    "    })\n",
    "\n",
    "# Now, 'data' is a list of dictionaries, each containing the position, description, and evidence for a modified residue\n"
   ]
  },
  {
   "cell_type": "code",
   "execution_count": null,
   "metadata": {},
   "outputs": [],
   "source": []
  },
  {
   "cell_type": "code",
   "execution_count": null,
   "metadata": {},
   "outputs": [],
   "source": [
    "import xml.etree.ElementTree as ET\n",
    "input = gzip.open('all ptm types_AAC.xml.gz', 'r')\n",
    "tree = ET.parse(input)\n",
    "root = tree.getroot()\n",
    "\n",
    "ns = {'uniprot': 'http://uniprot.org/uniprot'}  # Namespace\n",
    "\n",
    "# Iterate through each entry\n",
    "for entry in root.findall('uniprot:entry', ns):\n",
    "    ptm_evidence_map = {}  # Mapping of PTMs to their references\n",
    "\n",
    "    # Get all references in the entry\n",
    "    references = {ref.get('key'): ref for ref in entry.findall('uniprot:reference', ns)}\n",
    "\n",
    "    # Get all evidences in the entry\n",
    "    evidences = {evidence.get('key'): evidence for evidence in entry.findall('uniprot:evidence', ns)} \n",
    "\n",
    "    # Get all PTMs in the entry\n",
    "    ptms = [feature for feature in entry.findall('uniprot:feature', ns) if feature.get('type') == 'modified residue']\n",
    "\n",
    "    # For each PTM, find its evidence and then its reference\n",
    "    for ptm in ptms:\n",
    "        evidence_key = ptm.get('evidence')\n",
    "        if evidence_key:\n",
    "            evidence = evidences.get(evidence_key)\n",
    "            if evidence:\n",
    "                reference_key = evidence.get('source')\n",
    "                if reference_key:\n",
    "                    reference = references.get(reference_key)\n",
    "                    if reference:\n",
    "                        # Add to the mapping\n",
    "                        ptm_description = ptm.get('description')\n",
    "                        ptm_evidence_map[ptm_description] = reference\n",
    "                        \n",
    "\n",
    "    # Print the mapping\n",
    "    for ptm, reference in ptm_evidence_map.items():\n",
    "        print(f'PTM: {ptm}')\n",
    "        print(f'Reference: {ET.tostring(reference, encoding=\"unicode\")}')\n"
   ]
  },
  {
   "cell_type": "code",
   "execution_count": null,
   "metadata": {},
   "outputs": [],
   "source": []
  },
  {
   "cell_type": "code",
   "execution_count": null,
   "metadata": {},
   "outputs": [],
   "source": [
    "def get_references(self):\n",
    "    self.references = {}\n",
    "    for ref in self.entry.findall(self.ns+'reference'):\n",
    "        key = ref.get('key')\n",
    "        pubmed_id = ref.find(\".//{%s}dbReference[@type='PubMed']\" % self.ns)\n",
    "        if pubmed_id is not None:\n",
    "            self.references[key] = pubmed_id.get('id')\n",
    "\n",
    "def get_evidences(self):\n",
    "    self.ptms = []\n",
    "    for ptm in self.entry.findall(\".//{%s}feature[@type='modified residue']\" % self.ns):\n",
    "        description = ptm.find(\"{%s}description\" % self.ns).text\n",
    "        position = ptm.find(\".//{%s}position\" % self.ns).get('position')\n",
    "        evidence = ptm.get('evidence').split(' ')\n",
    "        pubmed_ids = [self.references.get(e) for e in evidence]\n",
    "        self.ptms.append({'description': description, 'position': position, 'pubmed_ids': pubmed_ids})\n",
    "\n",
    "def parse_entry(self, entry):\n",
    "    self.entry = entry\n",
    "    self.get_references()\n",
    "    self.get_evidences()\n",
    "    return self.ptms\n"
   ]
  },
  {
   "cell_type": "code",
   "execution_count": null,
   "metadata": {},
   "outputs": [],
   "source": [
    "\n",
    "references = []\n",
    "ns = {'uniprot': 'http://uniprot.org/uniprot'}\n",
    "for i, entry in enumerate(root.findall('{http://uniprot.org/uniprot}entry')):\n",
    "        print(i,\"-----------------------------------\")\n",
    "        for ref in entry.findall('uniprot:reference', ns):\n",
    "                        reference = {}\n",
    "                        key = ref.get('key')\n",
    "                        reference['key'] = key\n",
    "                        citation_type = ref.find('uniprot:citation', ns).get('type')\n",
    "                        reference[\"citation_type\"] = citation_type\n",
    "\n",
    "                        #print(i, key, citation_type, ref)\n",
    "                        if citation_type == 'journal article':\n",
    "                                try:\n",
    "                                        reference['journal'] = ref.find('uniprot:citation', ns).get('name')\n",
    "                                except:\n",
    "                                        reference['journal'] = None\n",
    "                                try:\n",
    "                                        reference['date'] = ref.find('uniprot:citation', ns).get('date')\n",
    "                                except:\n",
    "                                        reference['date'] = None\n",
    "                                try:\n",
    "                                        reference['title'] = ref.find('uniprot:citation/uniprot:title', ns).text\n",
    "                                except:\n",
    "                                        reference['title'] = None\n",
    "                                try:\n",
    "                                        reference['authors'] = [author.get('name') for author in ref.findall('uniprot:citation/uniprot:authorList/uniprot:person', ns)]\n",
    "                                except:\n",
    "                                        reference['authors'] = None\n",
    "                                try:\n",
    "                                        reference['pubmedId'] = ref.find('uniprot:citation/uniprot:dbReference[@type=\"PubMed\"]', ns).get('id')\n",
    "                                except:\n",
    "                                        reference['pubmedId'] = None\n",
    "                                try:\n",
    "                                        reference['doi'] = ref.find('uniprot:citation/uniprot:dbReference[@type=\"DOI\"]', ns).get('id')\n",
    "                                except:\n",
    "                                        reference['doi'] = None\n",
    "                        if citation_type == 'submission':  \n",
    "                                try: \n",
    "                                        reference['db'] = ref.find('uniprot:citation', ns).get('db')\n",
    "                                except:\n",
    "                                        reference['db'] = None\n",
    "                                try:\n",
    "                                        reference['date'] = ref.find('uniprot:citation', ns).get('date')\n",
    "                                except:\n",
    "                                        reference['date'] = None\n",
    "                                try:\n",
    "                                        reference['scope'] = [scope.text for scope in ref.findall('uniprot:scope', ns)]\n",
    "                                except:\n",
    "                                        reference['scope'] = None\n",
    "                                try:\n",
    "                                        reference['source'] = [source.text for source in ref.findall('uniprot:source', ns)]\n",
    "                                except:\n",
    "                                        reference['source'] = None\n",
    "\n",
    "                        references.append(reference)\n",
    "                        print(reference)\n",
    "                        print(\"---------------------------------------------------\")\n",
    "       \n",
    "                     \n",
    "\n",
    "#print(references )           "
   ]
  },
  {
   "cell_type": "code",
   "execution_count": null,
   "metadata": {},
   "outputs": [],
   "source": []
  }
 ],
 "metadata": {
  "kernelspec": {
   "display_name": "base",
   "language": "python",
   "name": "python3"
  },
  "language_info": {
   "codemirror_mode": {
    "name": "ipython",
    "version": 3
   },
   "file_extension": ".py",
   "mimetype": "text/x-python",
   "name": "python",
   "nbconvert_exporter": "python",
   "pygments_lexer": "ipython3",
   "version": "3.9.13"
  },
  "orig_nbformat": 4
 },
 "nbformat": 4,
 "nbformat_minor": 2
}
