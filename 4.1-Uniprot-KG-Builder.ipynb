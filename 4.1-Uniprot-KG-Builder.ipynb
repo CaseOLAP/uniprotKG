{
 "cells": [
  {
   "attachments": {},
   "cell_type": "markdown",
   "metadata": {},
   "source": [
    "## Uniprot KG Builder"
   ]
  },
  {
   "cell_type": "code",
   "execution_count": 1,
   "metadata": {},
   "outputs": [],
   "source": [
    "import pandas as pd\n",
    "import numpy as np\n",
    "import os\n",
    "import time\n",
    "import neo4j as neo4j\n",
    "from neo4j import GraphDatabase"
   ]
  },
  {
   "cell_type": "markdown",
   "metadata": {},
   "source": [
    "### Make a connection with Graph DataBase"
   ]
  },
  {
   "cell_type": "code",
   "execution_count": 2,
   "metadata": {},
   "outputs": [],
   "source": [
    "\n",
    "driver=GraphDatabase.driver(uri=\"bolt://127.0.0.1:7687\",auth=(\"neo4j\",\"12345678\"))\n",
    "session=driver.session()"
   ]
  },
  {
   "cell_type": "code",
   "execution_count": 28,
   "metadata": {},
   "outputs": [
    {
     "data": {
      "text/plain": [
       "<neo4j._sync.driver.BoltDriver at 0x7fa13076e940>"
      ]
     },
     "execution_count": 28,
     "metadata": {},
     "output_type": "execute_result"
    }
   ],
   "source": [
    "driver"
   ]
  },
  {
   "cell_type": "markdown",
   "metadata": {},
   "source": [
    "### Creat constraint"
   ]
  },
  {
   "cell_type": "code",
   "execution_count": 3,
   "metadata": {},
   "outputs": [],
   "source": [
    "def create_constraints(driver):\n",
    "        '''\n",
    "        Create constraints for nodes in the graph\n",
    "        args:\n",
    "            driver: neo4j driver\n",
    "        returns:\n",
    "            None\n",
    "        '''\n",
    "        query = [\"CREATE CONSTRAINT UniqueOrganismNameConstraint FOR (O:Organism) REQUIRE O.name IS UNIQUE\",\\\n",
    "                \"CREATE CONSTRAINT UniqueProteinIdConstraint FOR (P:Protein) REQUIRE P.UID IS UNIQUE\",\\\n",
    "                \"CREATE CONSTRAINT UniqueModifiedResidueIdConstraint FOR (MR:Modified_residue) REQUIRE MR.MRID IS UNIQUE\",\\\n",
    "                \"CREATE CONSTRAINT UniquePTMTypeIdConstraint FOR (PTM:PTM_Type) REQUIRE PTM.PTMID IS UNIQUE\",\\\n",
    "                \"CREATE CONSTRAINT UniqueReferenceIdConstraint FOR (R:Reference) REQUIRE R.PMID IS UNIQUE\"]\n",
    "        \n",
    "        \n",
    "        with driver.session() as session:\n",
    "            for constraint in query:\n",
    "                session.run(constraint)"
   ]
  },
  {
   "cell_type": "code",
   "execution_count": 4,
   "metadata": {},
   "outputs": [
    {
     "data": {
      "text/plain": [
       "'UNCOMMENT AND RUN THIS CELL ONLY ONCE'"
      ]
     },
     "execution_count": 4,
     "metadata": {},
     "output_type": "execute_result"
    }
   ],
   "source": [
    "'''UNCOMMENT AND RUN THIS CELL ONLY ONCE'''\n",
    "#create_constraints(driver)"
   ]
  },
  {
   "cell_type": "markdown",
   "metadata": {},
   "source": [
    "### Populate Node"
   ]
  },
  {
   "cell_type": "markdown",
   "metadata": {},
   "source": [
    "#### 1. Protein Node\n",
    "\n",
    "- Columns in PTM flat file:\n",
    "``` \n",
    "       Index(['accession', 'gene', 'name', 'organism', 'sequence', 'uniprotId',\n",
    "       'position', 'description', 'evidence', 'Identifier', 'ptm_accession',\n",
    "       'mod_res_id'],\n",
    "      dtype='object')\n",
    "```"
   ]
  },
  {
   "cell_type": "code",
   "execution_count": 4,
   "metadata": {},
   "outputs": [],
   "source": [
    "# Create protein node\n",
    "def create_protein_node(data):\n",
    "        '''\n",
    "        Create Protein node in the graph\n",
    "        args:\n",
    "            data: dictionary containing the data for the node\n",
    "        returns:\n",
    "            None\n",
    "        '''\n",
    "        def tx_function(tx,data):\n",
    "            query = \"WITH '\" + data  + \"' as url \\\n",
    "            CALL apoc.load.json(url) YIELD value \\\n",
    "            MERGE (P:Protein{UID:value.uniprotId})\\\n",
    "            ON CREATE SET P.sequence=value.sequence,\\\n",
    "            P.name=value.name, P.gene=value.gene\"\n",
    "            \n",
    "            #print(query)\n",
    "            tx.run(query,data=data)\n",
    "        \n",
    "        with driver.session() as session:   \n",
    "            session.execute_write(tx_function,data)\n",
    "\n",
    "     "
   ]
  },
  {
   "cell_type": "code",
   "execution_count": 5,
   "metadata": {},
   "outputs": [
    {
     "name": "stdout",
     "output_type": "stream",
     "text": [
      "success! total time:  5.597813129425049\n"
     ]
    }
   ],
   "source": [
    "t1 = time.time()\n",
    "data = \"ptm_flat_dropna.json\"\n",
    "create_protein_node(data)\n",
    "t2 = time.time()\n",
    "print( \"success! total time: \", t2-t1)"
   ]
  },
  {
   "cell_type": "markdown",
   "metadata": {},
   "source": [
    "### Create Modified Resude Node"
   ]
  },
  {
   "cell_type": "code",
   "execution_count": 8,
   "metadata": {},
   "outputs": [],
   "source": [
    "# Create protein node\n",
    "def create_modified_residue_node(data):\n",
    "        '''\n",
    "        Create Protein node in the graph\n",
    "        args:\n",
    "            data: dictionary containing the data for the node\n",
    "        returns:\n",
    "            None\n",
    "\n",
    "        Index(['accession', 'gene', 'name', 'organism', 'sequence', 'uniprotId',\n",
    "       'position', 'description', 'evidence', 'Identifier', 'ptm_accession',\n",
    "       'mod_res_id'],\n",
    "        dtype='object')\n",
    "        '''\n",
    "        def tx_function(tx,data):\n",
    "            query = \"WITH '\" + data  + \"' as url \\\n",
    "            CALL apoc.load.json(url) YIELD value \\\n",
    "            MERGE (MR:Modified_residue{MRID:value.mod_res_id})\\\n",
    "            ON CREATE SET MR.position=value.position,\\\n",
    "            MR.parent_protein=value.uniprotId,\\\n",
    "            MR.description=value.description,\\\n",
    "            MR.ptm_accession=value.ptm_accession,\\\n",
    "            MR.identifier=value.Identifier,\\\n",
    "            MR.evidence=value.evidence\"\n",
    "            \n",
    "            #print(query)\n",
    "            tx.run(query,data=data)\n",
    "        \n",
    "        with driver.session() as session:   \n",
    "            session.execute_write(tx_function,data)\n",
    "\n",
    "     "
   ]
  },
  {
   "cell_type": "code",
   "execution_count": 9,
   "metadata": {},
   "outputs": [
    {
     "name": "stdout",
     "output_type": "stream",
     "text": [
      "success! total time:  4.602682828903198\n"
     ]
    }
   ],
   "source": [
    "t1 = time.time()\n",
    "data = \"ptm_flat_dropna.json\"\n",
    "create_modified_residue_node(data)\n",
    "t2 = time.time()\n",
    "print( \"success! total time: \", t2-t1)"
   ]
  },
  {
   "cell_type": "markdown",
   "metadata": {},
   "source": [
    "#### 2. Create PTM Node"
   ]
  },
  {
   "cell_type": "markdown",
   "metadata": {},
   "source": [
    "- Columns in PTM vocab file:\n",
    "``` \n",
    "       Index(['Identifier', 'Accession', 'Feature_key', 'Target',\n",
    "       'Position_amino_acid', 'Position_polypeptide', 'Correction_formula',\n",
    "       'Monoisotopic_mass_difference', 'Average_mass_difference',\n",
    "       'Cellular_location', 'Taxonomic_range', 'Reference', 'Keyword'],\n",
    "      dtype='object')\n",
    "```"
   ]
  },
  {
   "cell_type": "code",
   "execution_count": 6,
   "metadata": {},
   "outputs": [],
   "source": [
    "# create ptm node\n",
    "def create_ptmtype_node(data):\n",
    "        '''\n",
    "        Create PTM_Type node in the graph\n",
    "        args:\n",
    "            data: dictionary containing the data for the node\n",
    "        returns:\n",
    "            None\n",
    "        '''\n",
    "        def tx_function(tx,data):\n",
    "            query = \"WITH '\" + data  + \"' as url \\\n",
    "            CALL apoc.load.json(url) YIELD value \\\n",
    "            MERGE (PTM:PTM_Type{PTMID:value.Accession})\\\n",
    "            ON CREATE SET PTM.identifier=value.Identifier,\\\n",
    "            PTM.feature_key=value.Feature_Key,\\\n",
    "            PTM.target=value.Target,\\\n",
    "            PTM.position_amino_acid=value.Position_amino_acid,\\\n",
    "            PTM.position_polypeptide=value.Position_polypeptide,\\\n",
    "            PTM.correction_formula=value.Correction_formula,\\\n",
    "            PTM.monoisotopic_mass_difference=value.Monoisotopic_mass_difference,\\\n",
    "            PTM.average_mass_difference=value.Average_mass_difference,\\\n",
    "            PTM.keyword=value.Keyword,\\\n",
    "            PTM.cellular_location=value.Cellular_location,\\\n",
    "            PTM.taxonomic_range=value.Taxonomic_range,\\\n",
    "            PTM.reference=value.Reference\"\n",
    "            \n",
    "\n",
    "\n",
    "            #print(query)\n",
    "            tx.run(query,data=data)\n",
    "        with driver.session() as session:   \n",
    "            session.execute_write(tx_function,data)\n",
    "    "
   ]
  },
  {
   "cell_type": "code",
   "execution_count": 7,
   "metadata": {},
   "outputs": [
    {
     "name": "stdout",
     "output_type": "stream",
     "text": [
      "success! total time:  0.3713102340698242\n"
     ]
    }
   ],
   "source": [
    "t1 = time.time()\n",
    "data = \"ptm-vocab.json\"\n",
    "create_ptmtype_node(data)\n",
    "t2 = time.time()\n",
    "print( \"success! total time: \", t2-t1)"
   ]
  },
  {
   "cell_type": "markdown",
   "metadata": {},
   "source": [
    "#### 3. Organism Node"
   ]
  },
  {
   "cell_type": "code",
   "execution_count": 4,
   "metadata": {},
   "outputs": [],
   "source": [
    "# Create organism node\n",
    "def create_organism_node(data):\n",
    "        '''  \n",
    "        Create Organism node in the graph\n",
    "         args:\n",
    "            data: dictionary containing the data for the node\n",
    "        returns:\n",
    "            None\n",
    "        '''\n",
    "        def tx_function(tx,data):\n",
    "            query = \"WITH '\" + data  + \"' as url \\\n",
    "            CALL apoc.load.json(url) YIELD value \\\n",
    "            MERGE (O:Organism{name:value.organism})\"\n",
    "            \n",
    "            #print(query)\n",
    "            tx.run(query,data=data)\n",
    "        \n",
    "        with driver.session() as session:   \n",
    "            session.execute_write(tx_function,data)\n"
   ]
  },
  {
   "cell_type": "code",
   "execution_count": 6,
   "metadata": {},
   "outputs": [
    {
     "name": "stdout",
     "output_type": "stream",
     "text": [
      "success! total time:  11.228230953216553\n"
     ]
    }
   ],
   "source": [
    "t1 = time.time()\n",
    "data = \"ptm_flat_dropna.json\"\n",
    "create_organism_node(data)\n",
    "t2 = time.time()\n",
    "print( \"success! total time: \", t2-t1)"
   ]
  },
  {
   "cell_type": "markdown",
   "metadata": {},
   "source": [
    "### Create reference node *****\n",
    "\n",
    "```\n",
    "Index(['gene', 'name', 'organism', 'uniprotId', 'position', 'description',\n",
    "       'evidence', 'pubmedId', 'journal', 'title', 'date', 'Identifier',\n",
    "       'ptm_accession'],\n",
    "      dtype='object')\n",
    "\n",
    "```"
   ]
  },
  {
   "cell_type": "code",
   "execution_count": 11,
   "metadata": {},
   "outputs": [],
   "source": [
    "\n",
    "# Create organism node\n",
    "def create_reference_node(data):\n",
    "        '''  \n",
    "        Create reference node in the graph\n",
    "         args:\n",
    "            data: dictionary containing the data for the node\n",
    "        returns:\n",
    "            None\n",
    "        '''\n",
    "        def tx_function(tx,data):\n",
    "            query = \"WITH '\" + data  + \"' as url \\\n",
    "            CALL apoc.load.json(url) YIELD value \\\n",
    "            MERGE (R:Reference{PMID:value.pubmedId})\\\n",
    "            ON CREATE SET R.title=value.title,\\\n",
    "            R.journal=value.journal,\\\n",
    "            R.date=value.date\"\n",
    "            \n",
    "            #print(query)\n",
    "            tx.run(query,data=data)\n",
    "        \n",
    "        with driver.session() as session:   \n",
    "            session.execute_write(tx_function,data)\n",
    "\n"
   ]
  },
  {
   "cell_type": "code",
   "execution_count": 12,
   "metadata": {},
   "outputs": [
    {
     "name": "stdout",
     "output_type": "stream",
     "text": [
      "success! total time:  6.920697927474976\n"
     ]
    }
   ],
   "source": [
    "t1 = time.time()\n",
    "data = \"df_modres_ref.json\"\n",
    "create_reference_node(data)\n",
    "t2 = time.time()\n",
    "print( \"success! total time: \", t2-t1)"
   ]
  },
  {
   "cell_type": "markdown",
   "metadata": {},
   "source": [
    "## Edge creation"
   ]
  },
  {
   "cell_type": "markdown",
   "metadata": {},
   "source": [
    "### Create relationship between Protein and Modified Residue"
   ]
  },
  {
   "cell_type": "code",
   "execution_count": 9,
   "metadata": {},
   "outputs": [],
   "source": [
    "def create_edge_protein2modified_residue(data):\n",
    "        def tx_function(tx,data):\n",
    "            query = \"WITH '\" + data  + \"' as url \\\n",
    "            CALL apoc.load.json(url) YIELD value \\\n",
    "            MATCH (P: Protein {UID:value.uniprotId})\\\n",
    "            MATCH (MR: Modified_residue {MRID:value.mod_res_id})\\\n",
    "            MERGE (P)-[:HAS_MODIFIED_RESIDUE]->(MR)\"\n",
    "\n",
    "            tx.run(query,data=data)\n",
    "        with driver.session() as session:   \n",
    "            session.execute_write(tx_function,data)"
   ]
  },
  {
   "cell_type": "code",
   "execution_count": 10,
   "metadata": {},
   "outputs": [
    {
     "name": "stdout",
     "output_type": "stream",
     "text": [
      "success! total time:  12.504657745361328\n"
     ]
    }
   ],
   "source": [
    "t1 = time.time()\n",
    "data = \"ptm_flat_dropna.json\"\n",
    "create_edge_protein2modified_residue(data)\n",
    "t2 = time.time()\n",
    "print( \"success! total time: \", t2-t1)"
   ]
  },
  {
   "cell_type": "markdown",
   "metadata": {},
   "source": [
    "### Create relationship between Modified residue and  PTM type"
   ]
  },
  {
   "cell_type": "code",
   "execution_count": 11,
   "metadata": {},
   "outputs": [],
   "source": [
    "def create_edge_modified_residue2ptm_type(data):\n",
    "        def tx_function(tx,data):\n",
    "            query = \"WITH '\" + data  + \"' as url \\\n",
    "            CALL apoc.load.json(url) YIELD value \\\n",
    "            MATCH (MR:Modified_residue {MRID:value.mod_res_id})\\\n",
    "            MATCH (PTM:PTM_Type {PTMID:value.ptm_accession})\\\n",
    "            MERGE (MR)-[:HAS_PTM_TYPE]->(PTM)\"\n",
    "\n",
    "            tx.run(query,data=data)\n",
    "        with driver.session() as session:   \n",
    "            session.execute_write(tx_function,data)"
   ]
  },
  {
   "cell_type": "code",
   "execution_count": 12,
   "metadata": {},
   "outputs": [
    {
     "name": "stdout",
     "output_type": "stream",
     "text": [
      "success! total time:  14.789127826690674\n"
     ]
    }
   ],
   "source": [
    "t1 = time.time()\n",
    "data = \"ptm_flat_dropna.json\"\n",
    "create_edge_modified_residue2ptm_type(data)\n",
    "t2 = time.time()\n",
    "print( \"success! total time: \", t2-t1)"
   ]
  },
  {
   "cell_type": "markdown",
   "metadata": {},
   "source": [
    "### Create relationship between Protein and Organism"
   ]
  },
  {
   "cell_type": "code",
   "execution_count": 17,
   "metadata": {},
   "outputs": [],
   "source": [
    "def create_edge_protein2organism(data):\n",
    "        def tx_function(tx,data):\n",
    "            query = \"WITH '\" + data  + \"' as url \\\n",
    "            CALL apoc.load.json(url) YIELD value \\\n",
    "            MATCH (P: Protein {UID:value.uniprotId})\\\n",
    "            MATCH (O: Organism {name:value.organism})\\\n",
    "            MERGE (P)-[:BELONGS_TO]->(O)\"\n",
    "\n",
    "            tx.run(query,data=data)\n",
    "        with driver.session() as session:   \n",
    "            session.execute_write(tx_function,data)"
   ]
  },
  {
   "cell_type": "code",
   "execution_count": 18,
   "metadata": {},
   "outputs": [
    {
     "name": "stdout",
     "output_type": "stream",
     "text": [
      "success! total time:  19.017669916152954\n"
     ]
    }
   ],
   "source": [
    "t1 = time.time()\n",
    "data = \"ptm_flat_dropna.json\"\n",
    "create_edge_protein2organism(data)\n",
    "t2 = time.time()\n",
    "print( \"success! total time: \", t2-t1)"
   ]
  },
  {
   "cell_type": "markdown",
   "metadata": {},
   "source": [
    "### Create relationship between Modified Residue and Reference"
   ]
  },
  {
   "cell_type": "code",
   "execution_count": 15,
   "metadata": {},
   "outputs": [],
   "source": [
    "def create_edge_modres2ref(data):\n",
    "        def tx_function(tx,data):\n",
    "            query = \"WITH '\" + data  + \"' as url \\\n",
    "            CALL apoc.load.json(url) YIELD value \\\n",
    "            MATCH (MR:Modified_residue {MRID:value.mod_res_id})\\\n",
    "            MATCH (R:Reference {PMID:value.pubmedId})\\\n",
    "            MERGE (MR)-[:HAS_REFERENCE]->(R)\"\n",
    "\n",
    "            tx.run(query,data=data)\n",
    "        with driver.session() as session:   \n",
    "            session.execute_write(tx_function,data)"
   ]
  },
  {
   "cell_type": "code",
   "execution_count": 16,
   "metadata": {},
   "outputs": [
    {
     "name": "stdout",
     "output_type": "stream",
     "text": [
      "success! total time:  10.495097875595093\n"
     ]
    }
   ],
   "source": [
    "t1 = time.time()\n",
    "data = \"df_modres_ref.json\"\n",
    "create_edge_modres2ref(data)\n",
    "t2 = time.time()\n",
    "print( \"success! total time: \", t2-t1)"
   ]
  },
  {
   "cell_type": "markdown",
   "metadata": {},
   "source": [
    "### Rough"
   ]
  }
 ],
 "metadata": {
  "kernelspec": {
   "display_name": "base",
   "language": "python",
   "name": "python3"
  },
  "language_info": {
   "codemirror_mode": {
    "name": "ipython",
    "version": 3
   },
   "file_extension": ".py",
   "mimetype": "text/x-python",
   "name": "python",
   "nbconvert_exporter": "python",
   "pygments_lexer": "ipython3",
   "version": "3.9.13"
  },
  "orig_nbformat": 4
 },
 "nbformat": 4,
 "nbformat_minor": 2
}
