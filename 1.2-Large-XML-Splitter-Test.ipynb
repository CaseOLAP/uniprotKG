{
 "cells": [
  {
   "attachments": {},
   "cell_type": "markdown",
   "metadata": {},
   "source": [
    "### Testing Splitted XML data and parsing library"
   ]
  },
  {
   "cell_type": "code",
   "execution_count": 1,
   "metadata": {},
   "outputs": [],
   "source": [
    "import gzip\n",
    "import pandas as pd\n",
    "import xml.etree.ElementTree as ET\n",
    "import os\n",
    "from parser.single_xml_parser import UniprotEntryParser\n",
    "from parser.splited_xml_parser import SplitedEntryParser"
   ]
  },
  {
   "cell_type": "markdown",
   "metadata": {},
   "source": [
    "#### Testing a single splitted file"
   ]
  },
  {
   "cell_type": "code",
   "execution_count": 4,
   "metadata": {},
   "outputs": [
    {
     "name": "stdout",
     "output_type": "stream",
     "text": [
      "{http://uniprot.org/uniprot}entry\n",
      "{'dataset': 'Swiss-Prot', 'created': '2009-05-05', 'modified': '2022-02-23', 'version': '52'}\n"
     ]
    }
   ],
   "source": [
    "tree = ET.parse('xmldataset/entry_5.xml')\n",
    "root = tree.getroot()\n",
    "print (root.tag)\n",
    "print (root.attrib)"
   ]
  },
  {
   "cell_type": "code",
   "execution_count": 5,
   "metadata": {},
   "outputs": [
    {
     "name": "stdout",
     "output_type": "stream",
     "text": [
      "Q65209\n"
     ]
    }
   ],
   "source": [
    "# Set the namespace\n",
    "ns = {'ns0': 'http://uniprot.org/uniprot'}\n",
    "\n",
    "# Search for the \"accession\" element within the \"entry\" element\n",
    "for entry in root.findall('ns0:accession', ns):\n",
    "    ID = entry.text\n",
    "    print(ID)"
   ]
  },
  {
   "cell_type": "code",
   "execution_count": 6,
   "metadata": {},
   "outputs": [],
   "source": [
    "def get_accession(root):\n",
    "    # Get the accession number\n",
    "    ns = {'ns0': 'http://uniprot.org/uniprot'}\n",
    "    accessions =  [accession.text for accession in root.findall('ns0:accession', ns)]  \n",
    "    return accessions"
   ]
  },
  {
   "cell_type": "code",
   "execution_count": 7,
   "metadata": {},
   "outputs": [
    {
     "data": {
      "text/plain": [
       "['Q65209']"
      ]
     },
     "execution_count": 7,
     "metadata": {},
     "output_type": "execute_result"
    }
   ],
   "source": [
    "get_accession(root)"
   ]
  },
  {
   "cell_type": "code",
   "execution_count": 8,
   "metadata": {},
   "outputs": [],
   "source": [
    "def get_entry_dict(entry):\n",
    "    # Get the entry dictionary\n",
    "    UEP = SplitedEntryParser(entry)\n",
    "    entry_dict = {'accession': UEP.get_accession(),\\\n",
    "                   'name': UEP.get_name(),\\\n",
    "                    'gene': UEP.get_gene(),\\\n",
    "                    'organism': UEP.get_organism(),\\\n",
    "                    'sequence': UEP.get_sequence(),\\\n",
    "                    'uniprotId': UEP.get_uniprotId(),\\\n",
    "                    'ptm': UEP.get_ptm(),\\\n",
    "                    'references': UEP.get_references()}\n",
    "    \n",
    "    return entry_dict"
   ]
  },
  {
   "cell_type": "code",
   "execution_count": 9,
   "metadata": {},
   "outputs": [
    {
     "data": {
      "text/plain": [
       "{'accession': ['Q65209'],\n",
       " 'name': 'Protein MGF 100-2L',\n",
       " 'gene': None,\n",
       " 'organism': 'African swine fever virus (strain Badajoz 1971 Vero-adapted)',\n",
       " 'sequence': 'MGNKESKYLEMCSEEAWLNIPNIFKCIFIRKLFYNKWLKYQEKKLKKSLKLLSFYHPKKDFVGIRDMLHMAPGGSYFITDNITEEFLMLVVKHPEDGSAEFTKLCLKGSCIVIDGYYYDTLHIFLSETPDIYKYPLIRYDR',\n",
       " 'uniprotId': 'Q65209',\n",
       " 'ptm': [],\n",
       " 'references': [{'key': '1',\n",
       "   'citation_type': 'journal article',\n",
       "   'journal': 'J. Virol.',\n",
       "   'date': '1990',\n",
       "   'title': None,\n",
       "   'authors': ['Gonzalez A.',\n",
       "    'Calvo V.',\n",
       "    'Almazan F.',\n",
       "    'Almendral J.M.',\n",
       "    'Ramirez J.C.',\n",
       "    'de la Vega I.',\n",
       "    'Blasco R.',\n",
       "    'Vinuela E.'],\n",
       "   'pubmedId': '2325203',\n",
       "   'doi': '10.1128/jvi.64.5.2073-2081.1990'},\n",
       "  {'key': '2',\n",
       "   'citation_type': 'journal article',\n",
       "   'journal': 'Virology',\n",
       "   'date': '1995',\n",
       "   'title': None,\n",
       "   'authors': ['Yanez R.J.',\n",
       "    'Rodriguez J.M.',\n",
       "    'Nogal M.L.',\n",
       "    'Yuste L.',\n",
       "    'Enriquez C.',\n",
       "    'Rodriguez J.F.',\n",
       "    'Vinuela E.'],\n",
       "   'pubmedId': '11831707',\n",
       "   'doi': '10.1006/viro.1995.1149'},\n",
       "  {'key': '3',\n",
       "   'citation_type': 'journal article',\n",
       "   'journal': 'J. Virol.',\n",
       "   'date': '2020',\n",
       "   'title': None,\n",
       "   'authors': ['Cackett G.',\n",
       "    'Matelska D.',\n",
       "    'Sykora M.',\n",
       "    'Portugal R.',\n",
       "    'Malecki M.',\n",
       "    'Baehler J.',\n",
       "    'Dixon L.',\n",
       "    'Werner F.'],\n",
       "   'pubmedId': '32075923',\n",
       "   'doi': '10.1128/jvi.00119-20'}]}"
      ]
     },
     "execution_count": 9,
     "metadata": {},
     "output_type": "execute_result"
    }
   ],
   "source": [
    "get_entry_dict(root)"
   ]
  }
 ],
 "metadata": {
  "kernelspec": {
   "display_name": "base",
   "language": "python",
   "name": "python3"
  },
  "language_info": {
   "codemirror_mode": {
    "name": "ipython",
    "version": 3
   },
   "file_extension": ".py",
   "mimetype": "text/x-python",
   "name": "python",
   "nbconvert_exporter": "python",
   "pygments_lexer": "ipython3",
   "version": "3.9.13"
  },
  "orig_nbformat": 4
 },
 "nbformat": 4,
 "nbformat_minor": 2
}
