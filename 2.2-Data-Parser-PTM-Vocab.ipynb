{
 "cells": [
  {
   "attachments": {},
   "cell_type": "markdown",
   "metadata": {},
   "source": [
    "### Uniprot PTM Vocabulary Parser"
   ]
  },
  {
   "cell_type": "code",
   "execution_count": 39,
   "metadata": {},
   "outputs": [],
   "source": [
    "import gzip\n",
    "import pandas as pd\n",
    "import json as json\n",
    "import os"
   ]
  },
  {
   "cell_type": "markdown",
   "metadata": {},
   "source": [
    "### Prepare PTM Vocabulary\n",
    "\n",
    "            ---------  ---------------------------     ------------------------------\n",
    "            Line code  Content                         Occurrence in an entry\n",
    "            ---------  ---------------------------     ------------------------------\n",
    "            ID         Identifier (FT description)     Once; starts a PTM entry\n",
    "            AC         Accession (PTM-xxxx)            Once\n",
    "            FT         Feature key                     Once\n",
    "            TG         Target                          Once; two targets separated by\n",
    "                                                        a dash in case of intrachain\n",
    "                                                        crosslinks\n",
    "            PA         Position of the modification    Optional; once\n",
    "                        on the amino acid\n",
    "            PP         Position of the modification    Optional; once\n",
    "                        in the polypeptide\n",
    "            CF         Correction formula              Optional; once\n",
    "            MM         Monoisotopic mass difference    Optional; once\n",
    "            MA         Average mass difference         Optional; once\n",
    "            LC         Cellular location               Optional; once; alternatives\n",
    "                                                        can be proposed\n",
    "            TR         Taxonomic range                 Optional; once or more\n",
    "            KW         Keyword                         Optional; once or more\n",
    "            DR         Cross-reference to external     Optional; once or more\n",
    "                        databases\n",
    "            //         Terminator                      Once; ends an entry\n"
   ]
  },
  {
   "cell_type": "code",
   "execution_count": 40,
   "metadata": {},
   "outputs": [],
   "source": [
    "code2content = {\n",
    "    \"ID\": \"Identifier\",\n",
    "    \"AC\": \"Accession\",\n",
    "    \"FT\": \"Feature_key\",\n",
    "    \"TG\": \"Target\",\n",
    "    \"PA\": \"Position_amino_acid\",\n",
    "    \"PP\": \"Position_polypeptide\",\n",
    "    \"CF\": \"Correction_formula\",\n",
    "    \"MM\": \"Monoisotopic_mass_difference\",\n",
    "    \"MA\": \"Average_mass_difference\",\n",
    "    \"LC\": \"Cellular_location\",\n",
    "    \"TR\": \"Taxonomic_range\",\n",
    "    \"KW\": \"Keyword\",\n",
    "    \"DR\": \"Reference\"\n",
    "    }"
   ]
  },
  {
   "cell_type": "markdown",
   "metadata": {},
   "source": [
    "#### Download data files from Uniprot"
   ]
  },
  {
   "cell_type": "code",
   "execution_count": 41,
   "metadata": {},
   "outputs": [],
   "source": [
    "#!wget https://ftp.uniprot.org/pub/databases/uniprot/current_release/knowledgebase/complete/docs/ptmlist.txt"
   ]
  },
  {
   "cell_type": "code",
   "execution_count": 42,
   "metadata": {},
   "outputs": [],
   "source": [
    "# ID   (2-aminosuccinimidyl)acetic acid (Asn-Gly)\n",
    "# AC   PTM-0450\n",
    "# FT   CROSSLNK\n",
    "# TG   Asparagine-Glycine.\n",
    "# PA   Amino acid side chain-Amino acid backbone.\n",
    "# PP   Anywhere-Protein core.\n",
    "# CF   H-3 N-1\n",
    "# MM   -17.026549\n",
    "# MA   -17.03\n",
    "# LC   Extracellular and lumenal localisation.\n",
    "# TR   Archaea; taxId:2157 (Archaea).\n",
    "# TR   Bacteria; taxId:2 (Bacteria).\n",
    "# TR   Eukaryota; taxId:2759 (Eukaryota).\n",
    "# DR   RESID; AA0441.\n",
    "# DR   PSI-MOD; MOD:01624.\n",
    "def parse_text_to_dict(filepath):\n",
    "    data = {}\n",
    "    with open(filepath, 'r') as f:\n",
    "        lines = f.readlines()\n",
    "        for line in lines:\n",
    "            if line.startswith('//'):\n",
    "                entry = {}\n",
    "            elif line.startswith('ID'):\n",
    "                entry[code2content['ID'] ] = line.split()[1].lower()\n",
    "            elif line.startswith('AC'):\n",
    "                accessions = line.split()[1]\n",
    "                entry[code2content['AC'] ] = line.split()[1]\n",
    "            elif line.startswith('FT'):\n",
    "                entry[code2content['FT'] ] = line.split()[1]\n",
    "            elif line.startswith('TG'):\n",
    "                entry[code2content['TG'] ] = line.split()[1]\n",
    "            elif line.startswith('PA'):\n",
    "                entry[code2content['PA'] ] = line.split()[1]\n",
    "            elif line.startswith('PP'):\n",
    "                entry[code2content['PP'] ] = line.split()[1]\n",
    "            elif line.startswith('CF'):\n",
    "                entry[code2content['CF'] ] = line.split()[1]\n",
    "            elif line.startswith('MM'):\n",
    "                entry[code2content['MM'] ] = line.split()[1]\n",
    "            elif line.startswith('MA'):\n",
    "                entry[code2content['MA'] ] = line.split()[1]\n",
    "            elif line.startswith('LC'):\n",
    "                entry[code2content['LC'] ] = line.split()[1]\n",
    "            elif line.startswith('TR'):\n",
    "                entry[code2content['TR'] ] = line.split()[1]\n",
    "            elif line.startswith('KW'):\n",
    "                entry[code2content['KW'] ] = line.split()[1]\n",
    "            elif line.startswith('DR'):\n",
    "                entry[code2content['DR'] ] = line.split()[1]\n",
    "                data.update({accessions:entry})\n",
    "    return data\n"
   ]
  },
  {
   "cell_type": "code",
   "execution_count": 43,
   "metadata": {},
   "outputs": [],
   "source": [
    "data = parse_text_to_dict('ptm/ptmlist.txt')"
   ]
  },
  {
   "cell_type": "code",
   "execution_count": 44,
   "metadata": {},
   "outputs": [],
   "source": [
    "DATA = []\n",
    "idf2accession = {}\n",
    "for key, value in data.items():\n",
    "    idf2accession[value['Identifier']] = value['Accession'] \n",
    "    DATA.append(value)"
   ]
  },
  {
   "cell_type": "code",
   "execution_count": 45,
   "metadata": {},
   "outputs": [],
   "source": [
    "with open('ptm/idf2accession.json', 'w') as f:\n",
    "    json.dump(idf2accession, f)"
   ]
  },
  {
   "cell_type": "code",
   "execution_count": 46,
   "metadata": {},
   "outputs": [],
   "source": [
    "# To write the data to a JSON file\n",
    "with open('ptm/ptm-vocab.json', 'w') as json_file:\n",
    "    json.dump(DATA, json_file)"
   ]
  },
  {
   "cell_type": "code",
   "execution_count": 47,
   "metadata": {},
   "outputs": [
    {
     "data": {
      "text/html": [
       "<div>\n",
       "<style scoped>\n",
       "    .dataframe tbody tr th:only-of-type {\n",
       "        vertical-align: middle;\n",
       "    }\n",
       "\n",
       "    .dataframe tbody tr th {\n",
       "        vertical-align: top;\n",
       "    }\n",
       "\n",
       "    .dataframe thead th {\n",
       "        text-align: right;\n",
       "    }\n",
       "</style>\n",
       "<table border=\"1\" class=\"dataframe\">\n",
       "  <thead>\n",
       "    <tr style=\"text-align: right;\">\n",
       "      <th></th>\n",
       "      <th>Identifier</th>\n",
       "      <th>Accession</th>\n",
       "      <th>Feature_key</th>\n",
       "      <th>Target</th>\n",
       "      <th>Position_amino_acid</th>\n",
       "      <th>Position_polypeptide</th>\n",
       "      <th>Correction_formula</th>\n",
       "      <th>Monoisotopic_mass_difference</th>\n",
       "      <th>Average_mass_difference</th>\n",
       "      <th>Cellular_location</th>\n",
       "      <th>Taxonomic_range</th>\n",
       "      <th>Reference</th>\n",
       "      <th>Keyword</th>\n",
       "    </tr>\n",
       "  </thead>\n",
       "  <tbody>\n",
       "    <tr>\n",
       "      <th>0</th>\n",
       "      <td>(2-aminosuccinimidyl)acetic</td>\n",
       "      <td>PTM-0450</td>\n",
       "      <td>CROSSLNK</td>\n",
       "      <td>Asparagine-Glycine.</td>\n",
       "      <td>Amino</td>\n",
       "      <td>Anywhere-Protein</td>\n",
       "      <td>H-3</td>\n",
       "      <td>-17.026549</td>\n",
       "      <td>-17.03</td>\n",
       "      <td>Extracellular</td>\n",
       "      <td>Eukaryota;</td>\n",
       "      <td>PSI-MOD;</td>\n",
       "      <td>NaN</td>\n",
       "    </tr>\n",
       "    <tr>\n",
       "      <th>1</th>\n",
       "      <td>(2-aminosuccinimidyl)acetic</td>\n",
       "      <td>PTM-0312</td>\n",
       "      <td>CROSSLNK</td>\n",
       "      <td>Aspartate-Glycine.</td>\n",
       "      <td>Amino</td>\n",
       "      <td>Anywhere-Protein</td>\n",
       "      <td>H-2</td>\n",
       "      <td>-18.010565</td>\n",
       "      <td>-18.02</td>\n",
       "      <td>Extracellular</td>\n",
       "      <td>Eukaryota;</td>\n",
       "      <td>PSI-MOD;</td>\n",
       "      <td>NaN</td>\n",
       "    </tr>\n",
       "  </tbody>\n",
       "</table>\n",
       "</div>"
      ],
      "text/plain": [
       "                    Identifier Accession Feature_key               Target  \\\n",
       "0  (2-aminosuccinimidyl)acetic  PTM-0450    CROSSLNK  Asparagine-Glycine.   \n",
       "1  (2-aminosuccinimidyl)acetic  PTM-0312    CROSSLNK   Aspartate-Glycine.   \n",
       "\n",
       "  Position_amino_acid Position_polypeptide Correction_formula  \\\n",
       "0               Amino     Anywhere-Protein                H-3   \n",
       "1               Amino     Anywhere-Protein                H-2   \n",
       "\n",
       "  Monoisotopic_mass_difference Average_mass_difference Cellular_location  \\\n",
       "0                   -17.026549                  -17.03     Extracellular   \n",
       "1                   -18.010565                  -18.02     Extracellular   \n",
       "\n",
       "  Taxonomic_range Reference Keyword  \n",
       "0      Eukaryota;  PSI-MOD;     NaN  \n",
       "1      Eukaryota;  PSI-MOD;     NaN  "
      ]
     },
     "execution_count": 47,
     "metadata": {},
     "output_type": "execute_result"
    }
   ],
   "source": [
    "df_ptm_vocab = pd.DataFrame(DATA)\n",
    "df_ptm_vocab.head(2)"
   ]
  },
  {
   "cell_type": "code",
   "execution_count": 48,
   "metadata": {},
   "outputs": [],
   "source": [
    "df_ptm_vocab.to_csv('ptm/ptm-vocab.csv', index=False)\n",
    "df_ptm_vocab.to_csv('kgdata/ptm-vocab.csv', index=False)"
   ]
  },
  {
   "cell_type": "code",
   "execution_count": 49,
   "metadata": {},
   "outputs": [
    {
     "data": {
      "text/plain": [
       "Index(['Identifier', 'Accession', 'Feature_key', 'Target',\n",
       "       'Position_amino_acid', 'Position_polypeptide', 'Correction_formula',\n",
       "       'Monoisotopic_mass_difference', 'Average_mass_difference',\n",
       "       'Cellular_location', 'Taxonomic_range', 'Reference', 'Keyword'],\n",
       "      dtype='object')"
      ]
     },
     "execution_count": 49,
     "metadata": {},
     "output_type": "execute_result"
    }
   ],
   "source": [
    "df_ptm_vocab.columns"
   ]
  }
 ],
 "metadata": {
  "kernelspec": {
   "display_name": "base",
   "language": "python",
   "name": "python3"
  },
  "language_info": {
   "codemirror_mode": {
    "name": "ipython",
    "version": 3
   },
   "file_extension": ".py",
   "mimetype": "text/x-python",
   "name": "python",
   "nbconvert_exporter": "python",
   "pygments_lexer": "ipython3",
   "version": "3.9.13"
  },
  "orig_nbformat": 4
 },
 "nbformat": 4,
 "nbformat_minor": 2
}
