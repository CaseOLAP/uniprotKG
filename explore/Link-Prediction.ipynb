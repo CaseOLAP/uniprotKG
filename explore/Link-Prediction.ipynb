{
 "cells": [
  {
   "cell_type": "markdown",
   "id": "6d7bf9ad",
   "metadata": {},
   "source": [
    "## GDS"
   ]
  },
  {
   "cell_type": "code",
   "execution_count": 15,
   "id": "879fd325",
   "metadata": {},
   "outputs": [],
   "source": [
    "import json \n",
    "import pandas as pd\n",
    "from neo4j import GraphDatabase\n",
    "import seaborn as sns\n",
    "sns.set()"
   ]
  },
  {
   "cell_type": "markdown",
   "id": "18f21ce8",
   "metadata": {},
   "source": [
    "### Connect"
   ]
  },
  {
   "cell_type": "code",
   "execution_count": 16,
   "id": "4f3e16e2",
   "metadata": {},
   "outputs": [],
   "source": [
    "driver = GraphDatabase.driver(uri = \"bolt://localhost:7687\",\\\n",
    "                              auth = (\"neo4j\",\"12341234\"))"
   ]
  },
  {
   "cell_type": "code",
   "execution_count": 17,
   "id": "b29a1864",
   "metadata": {},
   "outputs": [
    {
     "name": "stderr",
     "output_type": "stream",
     "text": [
      "<ipython-input-17-b734c674563a>:1: ExperimentalWarning: The configuration may change in the future.\n",
      "  driver.verify_connectivity()\n"
     ]
    },
    {
     "data": {
      "text/plain": [
       "'Neo4j/5.4.0'"
      ]
     },
     "execution_count": 17,
     "metadata": {},
     "output_type": "execute_result"
    }
   ],
   "source": [
    "driver.verify_connectivity()"
   ]
  },
  {
   "cell_type": "markdown",
   "id": "8eccbcb8",
   "metadata": {},
   "source": [
    "### Link Prediction (Proteins to PTM_Types)"
   ]
  },
  {
   "cell_type": "code",
   "execution_count": 18,
   "id": "1a29343d",
   "metadata": {},
   "outputs": [
    {
     "data": {
      "text/plain": [
       "(56985, 1)"
      ]
     },
     "execution_count": 18,
     "metadata": {},
     "output_type": "execute_result"
    }
   ],
   "source": [
    "query = \"MATCH (p:Protein) RETURN p.UID\"\n",
    "\n",
    "res = []\n",
    "with driver.session() as session:\n",
    "    info = session.run(query)\n",
    "    for item in info:\n",
    "        res.append({\"ID\":item.values()[0]})\n",
    "dfp = pd.DataFrame(res)\n",
    "dfp.shape"
   ]
  },
  {
   "cell_type": "code",
   "execution_count": 19,
   "id": "0b673aba",
   "metadata": {},
   "outputs": [],
   "source": [
    "dfp.to_csv(\"data/ProteinID.csv\",index=False)"
   ]
  },
  {
   "cell_type": "code",
   "execution_count": 20,
   "id": "3f478d37",
   "metadata": {},
   "outputs": [
    {
     "data": {
      "text/plain": [
       "(570, 1)"
      ]
     },
     "execution_count": 20,
     "metadata": {},
     "output_type": "execute_result"
    }
   ],
   "source": [
    "query = \"MATCH (ptm:PTM_Type) RETURN ptm.PTMID\"\n",
    "\n",
    "res = []\n",
    "with driver.session() as session:\n",
    "    info = session.run(query)\n",
    "    for item in info:\n",
    "        res.append({\"ID\":item.values()[0]})\n",
    "dfptm = pd.DataFrame(res)\n",
    "dfptm.shape"
   ]
  },
  {
   "cell_type": "code",
   "execution_count": 21,
   "id": "31ba1f1e",
   "metadata": {},
   "outputs": [],
   "source": [
    "dfptm.to_csv(\"data/PTMID.csv\",index=False)"
   ]
  },
  {
   "cell_type": "code",
   "execution_count": 45,
   "id": "33f4c437",
   "metadata": {},
   "outputs": [],
   "source": [
    "res = []\n",
    "\n",
    "for p in dfp[0:10][\"ID\"]:\n",
    "    for pt in dfptm[0:10][\"ID\"]:\n",
    "    \n",
    "        query = \"MATCH (p:Protein {UID: '\" + p + \"'}) \\\n",
    "        MATCH (ptm:PTM_Type {PTMID: '\" + pt + \"'}) \\\n",
    "        RETURN gds.alpha.linkprediction.totalNeighbors(p, ptm, \\\n",
    "        {relationshipQuery: null})\\\n",
    "        AS Score, p.UID AS Protein, ptm.PTMID AS PTM_Type\"\n",
    "\n",
    "        with driver.session() as session:\n",
    "            info = session.run(query)\n",
    "            for item in info:\n",
    "                res.append({\"Protein\":item.values()[1], \n",
    "                            \"PTM_Type\":item.values()[2],\n",
    "                            \"Score\":item.values()[0]})"
   ]
  },
  {
   "cell_type": "code",
   "execution_count": 46,
   "id": "626b19b0",
   "metadata": {},
   "outputs": [
    {
     "data": {
      "text/html": [
       "<div>\n",
       "<style scoped>\n",
       "    .dataframe tbody tr th:only-of-type {\n",
       "        vertical-align: middle;\n",
       "    }\n",
       "\n",
       "    .dataframe tbody tr th {\n",
       "        vertical-align: top;\n",
       "    }\n",
       "\n",
       "    .dataframe thead th {\n",
       "        text-align: right;\n",
       "    }\n",
       "</style>\n",
       "<table border=\"1\" class=\"dataframe\">\n",
       "  <thead>\n",
       "    <tr style=\"text-align: right;\">\n",
       "      <th></th>\n",
       "      <th>Protein</th>\n",
       "      <th>PTM_Type</th>\n",
       "      <th>Score</th>\n",
       "    </tr>\n",
       "  </thead>\n",
       "  <tbody>\n",
       "    <tr>\n",
       "      <th>8</th>\n",
       "      <td>P63261</td>\n",
       "      <td>PTM-0306</td>\n",
       "      <td>139.0</td>\n",
       "    </tr>\n",
       "    <tr>\n",
       "      <th>4</th>\n",
       "      <td>P63261</td>\n",
       "      <td>PTM-0371</td>\n",
       "      <td>133.0</td>\n",
       "    </tr>\n",
       "    <tr>\n",
       "      <th>3</th>\n",
       "      <td>P63261</td>\n",
       "      <td>PTM-0369</td>\n",
       "      <td>122.0</td>\n",
       "    </tr>\n",
       "    <tr>\n",
       "      <th>5</th>\n",
       "      <td>P63261</td>\n",
       "      <td>PTM-0477</td>\n",
       "      <td>101.0</td>\n",
       "    </tr>\n",
       "    <tr>\n",
       "      <th>7</th>\n",
       "      <td>P63261</td>\n",
       "      <td>PTM-0336</td>\n",
       "      <td>96.0</td>\n",
       "    </tr>\n",
       "  </tbody>\n",
       "</table>\n",
       "</div>"
      ],
      "text/plain": [
       "  Protein  PTM_Type  Score\n",
       "8  P63261  PTM-0306  139.0\n",
       "4  P63261  PTM-0371  133.0\n",
       "3  P63261  PTM-0369  122.0\n",
       "5  P63261  PTM-0477  101.0\n",
       "7  P63261  PTM-0336   96.0"
      ]
     },
     "execution_count": 46,
     "metadata": {},
     "output_type": "execute_result"
    }
   ],
   "source": [
    "df_res = pd.DataFrame(res)\n",
    "df_res = df_res.sort_values(\"Score\", ascending = False)\n",
    "df_res.head(5)"
   ]
  },
  {
   "cell_type": "code",
   "execution_count": 47,
   "id": "0cc034b5",
   "metadata": {},
   "outputs": [
    {
     "data": {
      "text/html": [
       "<div>\n",
       "<style scoped>\n",
       "    .dataframe tbody tr th:only-of-type {\n",
       "        vertical-align: middle;\n",
       "    }\n",
       "\n",
       "    .dataframe tbody tr th {\n",
       "        vertical-align: top;\n",
       "    }\n",
       "\n",
       "    .dataframe thead th {\n",
       "        text-align: right;\n",
       "    }\n",
       "</style>\n",
       "<table border=\"1\" class=\"dataframe\">\n",
       "  <thead>\n",
       "    <tr style=\"text-align: right;\">\n",
       "      <th>PTM_Type</th>\n",
       "      <th>PTM-0306</th>\n",
       "      <th>PTM-0312</th>\n",
       "      <th>PTM-0336</th>\n",
       "      <th>PTM-0337</th>\n",
       "      <th>PTM-0368</th>\n",
       "      <th>PTM-0369</th>\n",
       "      <th>PTM-0371</th>\n",
       "      <th>PTM-0450</th>\n",
       "      <th>PTM-0476</th>\n",
       "      <th>PTM-0477</th>\n",
       "    </tr>\n",
       "    <tr>\n",
       "      <th>Protein</th>\n",
       "      <th></th>\n",
       "      <th></th>\n",
       "      <th></th>\n",
       "      <th></th>\n",
       "      <th></th>\n",
       "      <th></th>\n",
       "      <th></th>\n",
       "      <th></th>\n",
       "      <th></th>\n",
       "      <th></th>\n",
       "    </tr>\n",
       "  </thead>\n",
       "  <tbody>\n",
       "    <tr>\n",
       "      <th>O42422</th>\n",
       "      <td>65.0</td>\n",
       "      <td>10.0</td>\n",
       "      <td>22.0</td>\n",
       "      <td>22.0</td>\n",
       "      <td>11.0</td>\n",
       "      <td>48.0</td>\n",
       "      <td>59.0</td>\n",
       "      <td>10.0</td>\n",
       "      <td>19.0</td>\n",
       "      <td>27.0</td>\n",
       "    </tr>\n",
       "    <tr>\n",
       "      <th>P28317</th>\n",
       "      <td>59.0</td>\n",
       "      <td>4.0</td>\n",
       "      <td>16.0</td>\n",
       "      <td>16.0</td>\n",
       "      <td>5.0</td>\n",
       "      <td>42.0</td>\n",
       "      <td>53.0</td>\n",
       "      <td>4.0</td>\n",
       "      <td>13.0</td>\n",
       "      <td>21.0</td>\n",
       "    </tr>\n",
       "    <tr>\n",
       "      <th>P30987</th>\n",
       "      <td>70.0</td>\n",
       "      <td>15.0</td>\n",
       "      <td>27.0</td>\n",
       "      <td>27.0</td>\n",
       "      <td>16.0</td>\n",
       "      <td>53.0</td>\n",
       "      <td>64.0</td>\n",
       "      <td>15.0</td>\n",
       "      <td>24.0</td>\n",
       "      <td>32.0</td>\n",
       "    </tr>\n",
       "    <tr>\n",
       "      <th>P63261</th>\n",
       "      <td>139.0</td>\n",
       "      <td>84.0</td>\n",
       "      <td>96.0</td>\n",
       "      <td>96.0</td>\n",
       "      <td>85.0</td>\n",
       "      <td>122.0</td>\n",
       "      <td>133.0</td>\n",
       "      <td>84.0</td>\n",
       "      <td>93.0</td>\n",
       "      <td>101.0</td>\n",
       "    </tr>\n",
       "    <tr>\n",
       "      <th>Q38933</th>\n",
       "      <td>57.0</td>\n",
       "      <td>2.0</td>\n",
       "      <td>14.0</td>\n",
       "      <td>14.0</td>\n",
       "      <td>3.0</td>\n",
       "      <td>40.0</td>\n",
       "      <td>51.0</td>\n",
       "      <td>2.0</td>\n",
       "      <td>11.0</td>\n",
       "      <td>19.0</td>\n",
       "    </tr>\n",
       "    <tr>\n",
       "      <th>Q57NN5</th>\n",
       "      <td>57.0</td>\n",
       "      <td>2.0</td>\n",
       "      <td>14.0</td>\n",
       "      <td>14.0</td>\n",
       "      <td>3.0</td>\n",
       "      <td>40.0</td>\n",
       "      <td>51.0</td>\n",
       "      <td>2.0</td>\n",
       "      <td>11.0</td>\n",
       "      <td>19.0</td>\n",
       "    </tr>\n",
       "    <tr>\n",
       "      <th>Q8BWY3</th>\n",
       "      <td>77.0</td>\n",
       "      <td>22.0</td>\n",
       "      <td>34.0</td>\n",
       "      <td>34.0</td>\n",
       "      <td>23.0</td>\n",
       "      <td>60.0</td>\n",
       "      <td>71.0</td>\n",
       "      <td>22.0</td>\n",
       "      <td>31.0</td>\n",
       "      <td>39.0</td>\n",
       "    </tr>\n",
       "    <tr>\n",
       "      <th>Q91YT7</th>\n",
       "      <td>67.0</td>\n",
       "      <td>12.0</td>\n",
       "      <td>24.0</td>\n",
       "      <td>24.0</td>\n",
       "      <td>13.0</td>\n",
       "      <td>50.0</td>\n",
       "      <td>61.0</td>\n",
       "      <td>12.0</td>\n",
       "      <td>21.0</td>\n",
       "      <td>29.0</td>\n",
       "    </tr>\n",
       "    <tr>\n",
       "      <th>Q92785</th>\n",
       "      <td>64.0</td>\n",
       "      <td>9.0</td>\n",
       "      <td>21.0</td>\n",
       "      <td>21.0</td>\n",
       "      <td>10.0</td>\n",
       "      <td>47.0</td>\n",
       "      <td>58.0</td>\n",
       "      <td>9.0</td>\n",
       "      <td>18.0</td>\n",
       "      <td>26.0</td>\n",
       "    </tr>\n",
       "    <tr>\n",
       "      <th>Q9XZD6</th>\n",
       "      <td>59.0</td>\n",
       "      <td>4.0</td>\n",
       "      <td>16.0</td>\n",
       "      <td>16.0</td>\n",
       "      <td>5.0</td>\n",
       "      <td>42.0</td>\n",
       "      <td>53.0</td>\n",
       "      <td>4.0</td>\n",
       "      <td>13.0</td>\n",
       "      <td>21.0</td>\n",
       "    </tr>\n",
       "  </tbody>\n",
       "</table>\n",
       "</div>"
      ],
      "text/plain": [
       "PTM_Type  PTM-0306  PTM-0312  PTM-0336  PTM-0337  PTM-0368  PTM-0369  \\\n",
       "Protein                                                                \n",
       "O42422        65.0      10.0      22.0      22.0      11.0      48.0   \n",
       "P28317        59.0       4.0      16.0      16.0       5.0      42.0   \n",
       "P30987        70.0      15.0      27.0      27.0      16.0      53.0   \n",
       "P63261       139.0      84.0      96.0      96.0      85.0     122.0   \n",
       "Q38933        57.0       2.0      14.0      14.0       3.0      40.0   \n",
       "Q57NN5        57.0       2.0      14.0      14.0       3.0      40.0   \n",
       "Q8BWY3        77.0      22.0      34.0      34.0      23.0      60.0   \n",
       "Q91YT7        67.0      12.0      24.0      24.0      13.0      50.0   \n",
       "Q92785        64.0       9.0      21.0      21.0      10.0      47.0   \n",
       "Q9XZD6        59.0       4.0      16.0      16.0       5.0      42.0   \n",
       "\n",
       "PTM_Type  PTM-0371  PTM-0450  PTM-0476  PTM-0477  \n",
       "Protein                                           \n",
       "O42422        59.0      10.0      19.0      27.0  \n",
       "P28317        53.0       4.0      13.0      21.0  \n",
       "P30987        64.0      15.0      24.0      32.0  \n",
       "P63261       133.0      84.0      93.0     101.0  \n",
       "Q38933        51.0       2.0      11.0      19.0  \n",
       "Q57NN5        51.0       2.0      11.0      19.0  \n",
       "Q8BWY3        71.0      22.0      31.0      39.0  \n",
       "Q91YT7        61.0      12.0      21.0      29.0  \n",
       "Q92785        58.0       9.0      18.0      26.0  \n",
       "Q9XZD6        53.0       4.0      13.0      21.0  "
      ]
     },
     "execution_count": 47,
     "metadata": {},
     "output_type": "execute_result"
    }
   ],
   "source": [
    "df_pivot = df_res.pivot(index=\"Protein\", columns=\"PTM_Type\", values=\"Score\")\n",
    "df_pivot.head(15)"
   ]
  },
  {
   "cell_type": "code",
   "execution_count": 52,
   "id": "e8893b3c",
   "metadata": {},
   "outputs": [
    {
     "data": {
      "image/png": "[encoded data removed]",
      "text/plain": [
       "<Figure size 720x720 with 2 Axes>"
      ]
     },
     "metadata": {
      "needs_background": "light"
     },
     "output_type": "display_data"
    }
   ],
   "source": [
    "import matplotlib.pyplot as plt\n",
    "plt.figure(figsize = [10,10])\n",
    "sns.heatmap(df_pivot,cmap=\"Blues\", annot=True, fmt=\".2f\")\n",
    "plt.savefig(\"plots/link-prediction-p2ptm.pdf\")\n",
    "plt.savefig(\"plots/link-prediction-p2ptm.png\")"
   ]
  },
  {
   "cell_type": "markdown",
   "id": "6f607f89",
   "metadata": {},
   "source": [
    "### Link Prediction: Protein to PTM_Type (Specialized)"
   ]
  },
  {
   "cell_type": "code",
   "execution_count": null,
   "id": "439eea6b",
   "metadata": {},
   "outputs": [],
   "source": []
  },
  {
   "cell_type": "code",
   "execution_count": null,
   "id": "28631715",
   "metadata": {},
   "outputs": [],
   "source": []
  },
  {
   "cell_type": "code",
   "execution_count": null,
   "id": "ec62b43e",
   "metadata": {},
   "outputs": [],
   "source": []
  },
  {
   "cell_type": "code",
   "execution_count": null,
   "id": "f4174a41",
   "metadata": {},
   "outputs": [],
   "source": []
  },
  {
   "cell_type": "code",
   "execution_count": null,
   "id": "b04b43e2",
   "metadata": {},
   "outputs": [],
   "source": []
  }
 ],
 "metadata": {
  "kernelspec": {
   "display_name": "Python 3",
   "language": "python",
   "name": "python3"
  },
  "language_info": {
   "codemirror_mode": {
    "name": "ipython",
    "version": 3
   },
   "file_extension": ".py",
   "mimetype": "text/x-python",
   "name": "python",
   "nbconvert_exporter": "python",
   "pygments_lexer": "ipython3",
   "version": "3.8.8"
  }
 },
 "nbformat": 4,
 "nbformat_minor": 5
}
