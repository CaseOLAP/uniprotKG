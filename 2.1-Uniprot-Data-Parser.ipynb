{
 "cells": [
  {
   "attachments": {},
   "cell_type": "markdown",
   "metadata": {},
   "source": [
    "### Bulk Parsing and Saving"
   ]
  },
  {
   "cell_type": "code",
   "execution_count": 11,
   "metadata": {},
   "outputs": [],
   "source": [
    "import gzip\n",
    "import json\n",
    "import pandas as pd\n",
    "import xml.etree.ElementTree as ET\n",
    "import os\n",
    "from parser.single_xml_parser import UniprotEntryParser\n",
    "from parser.splited_xml_parser import SplitedEntryParser"
   ]
  },
  {
   "cell_type": "markdown",
   "metadata": {},
   "source": [
    "### Preparing sample function"
   ]
  },
  {
   "cell_type": "code",
   "execution_count": 13,
   "metadata": {},
   "outputs": [],
   "source": [
    "def parse_file(file_path): \n",
    "    tree = ET.parse(file_path)\n",
    "    root = tree.getroot()\n",
    "\n",
    "    SEP = SplitedEntryParser(root)\n",
    "\n",
    "    entry_dict = {'accession': SEP.get_accession(),\\\n",
    "                   'name': SEP.get_name(),\\\n",
    "                    'gene': SEP.get_gene(),\\\n",
    "                    'organism': SEP.get_organism(),\\\n",
    "                    'sequence': SEP.get_sequence(),\\\n",
    "                    'uniprotId': SEP.get_uniprotId(),\\\n",
    "                    'ptm': SEP.get_ptm(),\\\n",
    "                    'references': SEP.get_references()}\n",
    "        \n",
    "    return entry_dict"
   ]
  },
  {
   "cell_type": "code",
   "execution_count": 14,
   "metadata": {},
   "outputs": [
    {
     "data": {
      "text/plain": [
       "{'accession': ['B9IVW8'],\n",
       " 'name': 'Bifunctional protein PyrR',\n",
       " 'gene': 'pyrR',\n",
       " 'organism': 'Bacillus cereus (strain Q1)',\n",
       " 'sequence': 'MQEKAVVLDDQMIRRALTRISHEIVERNKGVDNCVLVGIKTRGIFIAQRLAERIGQIEGKEMEVGELDITLYRDDLTLQSKNKEPLVKGSDIPVDITKKKVILVDDVLYTGRTVRAAMDALMDLGRPSQIQLAVLVDRGHRELPIRADYVGKNIPTSSEERIEVDLQETDQQDRVSIYDK',\n",
       " 'uniprotId': 'B9IVW8',\n",
       " 'ptm': [],\n",
       " 'references': [{'key': '1',\n",
       "   'citation_type': 'journal article',\n",
       "   'journal': 'J. Bacteriol.',\n",
       "   'date': '2009',\n",
       "   'title': None,\n",
       "   'authors': ['Xiong Z.',\n",
       "    'Jiang Y.',\n",
       "    'Qi D.',\n",
       "    'Lu H.',\n",
       "    'Yang F.',\n",
       "    'Yang J.',\n",
       "    'Chen L.',\n",
       "    'Sun L.',\n",
       "    'Xu X.',\n",
       "    'Xue Y.',\n",
       "    'Zhu Y.',\n",
       "    'Jin Q.'],\n",
       "   'pubmedId': '19060151',\n",
       "   'doi': '10.1128/jb.01629-08'}]}"
      ]
     },
     "execution_count": 14,
     "metadata": {},
     "output_type": "execute_result"
    }
   ],
   "source": [
    "parse_file('xmldataset/entry_546602.xml')"
   ]
  },
  {
   "cell_type": "markdown",
   "metadata": {},
   "source": [
    "### Counting files in the folder and getting the file paths"
   ]
  },
  {
   "cell_type": "code",
   "execution_count": 9,
   "metadata": {},
   "outputs": [
    {
     "data": {
      "text/plain": [
       "'entry_546602.xml'"
      ]
     },
     "execution_count": 9,
     "metadata": {},
     "output_type": "execute_result"
    }
   ],
   "source": [
    "file_dir = 'xmldataset'\n",
    "os.listdir(file_dir)[0]"
   ]
  },
  {
   "cell_type": "code",
   "execution_count": 10,
   "metadata": {},
   "outputs": [
    {
     "data": {
      "text/plain": [
       "'xmldataset/entry_546602.xml'"
      ]
     },
     "execution_count": 10,
     "metadata": {},
     "output_type": "execute_result"
    }
   ],
   "source": [
    "nfiles = 10\n",
    "file_paths = [os.path.join(file_dir, file) for file in os.listdir(file_dir)[0:nfiles] if file.endswith('.xml')]\n",
    "file_paths[0]"
   ]
  },
  {
   "cell_type": "markdown",
   "metadata": {},
   "source": [
    "---------------------------------------------------------------------------"
   ]
  },
  {
   "cell_type": "markdown",
   "metadata": {},
   "source": [
    "### Parallelize the parsing of xml files\n",
    "Run file from terminal: ```python3 parallel.py```\n",
    "\n",
    "Parsed data will be dumped as ```all_uniprot_data.json```"
   ]
  },
  {
   "cell_type": "markdown",
   "metadata": {},
   "source": [
    "---------------------------------------------------------------------------"
   ]
  },
  {
   "cell_type": "markdown",
   "metadata": {},
   "source": [
    "### Mapping the Reference into PTM Evidences"
   ]
  },
  {
   "cell_type": "code",
   "execution_count": null,
   "metadata": {},
   "outputs": [],
   "source": [
    "with open(\"output/all_uniprot_data.json\", \"r\") as f:\n",
    "    uniprot_data = json.load(f) "
   ]
  },
  {
   "cell_type": "code",
   "execution_count": null,
   "metadata": {},
   "outputs": [],
   "source": [
    "for item in uniprot_data:\n",
    "    key2reference = {}\n",
    "    for reference in item['references']:\n",
    "        key2reference[reference['key']] = reference\n",
    "\n",
    "with open('kgdata/key2reference.json', 'w') as f:\n",
    "    json.dump(key2reference, f)"
   ]
  },
  {
   "cell_type": "code",
   "execution_count": null,
   "metadata": {},
   "outputs": [],
   "source": []
  },
  {
   "cell_type": "code",
   "execution_count": null,
   "metadata": {},
   "outputs": [],
   "source": []
  },
  {
   "cell_type": "code",
   "execution_count": null,
   "metadata": {},
   "outputs": [],
   "source": []
  }
 ],
 "metadata": {
  "kernelspec": {
   "display_name": "base",
   "language": "python",
   "name": "python3"
  },
  "language_info": {
   "codemirror_mode": {
    "name": "ipython",
    "version": 3
   },
   "file_extension": ".py",
   "mimetype": "text/x-python",
   "name": "python",
   "nbconvert_exporter": "python",
   "pygments_lexer": "ipython3",
   "version": "3.9.13"
  },
  "orig_nbformat": 4
 },
 "nbformat": 4,
 "nbformat_minor": 2
}
