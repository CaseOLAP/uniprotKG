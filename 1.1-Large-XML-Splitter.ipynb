{
 "cells": [
  {
   "attachments": {},
   "cell_type": "markdown",
   "metadata": {},
   "source": [
    "### Splitting Large XML into entry based single files\n",
    "\n",
    "We split large XML file into individual pieces associated with a specific protein. Later we parallelize the parsing step using ```parallel.py```. The main parsing library is in ```parsing folder```"
   ]
  },
  {
   "cell_type": "code",
   "execution_count": null,
   "metadata": {},
   "outputs": [],
   "source": [
    "import gzip\n",
    "import pandas as pd\n",
    "import xml.etree.ElementTree as ET\n",
    "import os\n",
    "import json as json\n",
    "\n",
    "from tqdm import tqdm\n",
    "from parser.splited_xml_parser import SplitedEntryParser"
   ]
  },
  {
   "cell_type": "code",
   "execution_count": null,
   "metadata": {},
   "outputs": [],
   "source": [
    "def get_entry_dict(entry):\n",
    "    # Get the entry dictionary\n",
    "    UEP = SplitedEntryParser(entry)\n",
    "    \n",
    "\n",
    "    entry_dict = {'accession': UEP.get_accession(),\\\n",
    "                   'name': UEP.get_name(),\\\n",
    "                    'gene': UEP.get_gene(),\\\n",
    "                    'organism': UEP.get_organism(),\\\n",
    "                    'sequence': UEP.get_sequence(),\\\n",
    "                    'uniprotId': UEP.get_uniprotId(),\\\n",
    "                    'ptm': UEP.get_ptm(),\\\n",
    "                    'references': UEP.get_references()}\n",
    "    \n",
    "    return entry_dict"
   ]
  },
  {
   "cell_type": "code",
   "execution_count": 3,
   "metadata": {},
   "outputs": [],
   "source": [
    "def split_xml(filename, split=True, parse=False):\n",
    "    context = ET.iterparse(filename, events=(\"start\", \"end\"))\n",
    "    event, root = next(context)  # Get root element of the XML file\n",
    "\n",
    "    entry_count = 0\n",
    "    for event, elem in context:\n",
    "        if event == \"end\" and elem.tag == \"{http://uniprot.org/uniprot}entry\":  \n",
    "            entry_count += 1\n",
    "\n",
    "            if split==True:\n",
    "                # Write each entry to a separate XML file\n",
    "                with open(f\"xmldataset/entry_{entry_count}.xml\", \"wb\") as f:  \n",
    "                    f.write(ET.tostring(elem, encoding=\"utf-8\"))\n",
    "\n",
    "\n",
    "            # set parse == False if planing to parallelize\n",
    "            if parse==True:\n",
    "                # Write each entry to a separate JSON file\n",
    "                data = get_entry_dict(elem)  # Get a dictionary of the entry data\n",
    "                with open(f\"jsondataset/entry_{entry_count}.json\", \"w\") as f:  \n",
    "                    json.dump(data, f)\n",
    "\n",
    "            # print the progress\n",
    "            if entry_count % 1000 == 0:\n",
    "                print(f\"{entry_count} entries processed\")\n",
    "            \n",
    "            # print tqdm progressbar\n",
    "            # tqdm.write(f\"{entry_count} entries processed\")\n",
    "\n",
    "            # Clear the element to free memory\n",
    "            root.clear()  # Discard the element data to free memory"
   ]
  },
  {
   "cell_type": "code",
   "execution_count": null,
   "metadata": {},
   "outputs": [],
   "source": [
    "split_xml(\"largedata/whole uniprot.xml\", split=True, parse=False)"
   ]
  },
  {
   "cell_type": "code",
   "execution_count": null,
   "metadata": {},
   "outputs": [],
   "source": []
  },
  {
   "cell_type": "code",
   "execution_count": null,
   "metadata": {},
   "outputs": [],
   "source": []
  },
  {
   "cell_type": "code",
   "execution_count": null,
   "metadata": {},
   "outputs": [],
   "source": []
  }
 ],
 "metadata": {
  "kernelspec": {
   "display_name": "base",
   "language": "python",
   "name": "python3"
  },
  "language_info": {
   "codemirror_mode": {
    "name": "ipython",
    "version": 3
   },
   "file_extension": ".py",
   "mimetype": "text/x-python",
   "name": "python",
   "nbconvert_exporter": "python",
   "pygments_lexer": "ipython3",
   "version": "3.9.13"
  },
  "orig_nbformat": 4
 },
 "nbformat": 4,
 "nbformat_minor": 2
}
